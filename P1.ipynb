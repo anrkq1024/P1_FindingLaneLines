{
 "cells": [
  {
   "cell_type": "markdown",
   "metadata": {},
   "source": [
    "# Self Driving Car Nano Degree \n",
    "# P1 - Finding Lane Lines on the Road\n",
    "\n"
   ]
  },
  {
   "cell_type": "markdown",
   "metadata": {},
   "source": [
    "### this P1.ipynb file contains detailed code so clearly shows the overall process"
   ]
  },
  {
   "cell_type": "markdown",
   "metadata": {},
   "source": [
    "## First , solidWhiteRight"
   ]
  },
  {
   "cell_type": "markdown",
   "metadata": {},
   "source": [
    "## Import library "
   ]
  },
  {
   "cell_type": "code",
   "execution_count": 9,
   "metadata": {},
   "outputs": [],
   "source": [
    "import matplotlib.pyplot as plt\n",
    "import matplotlib.image as mpimg\n",
    "import numpy as np\n",
    "import cv2\n",
    "import math\n",
    "import imageio\n",
    "imageio.plugins.ffmpeg.download()\n",
    "\n",
    "%matplotlib inline\n"
   ]
  },
  {
   "cell_type": "markdown",
   "metadata": {},
   "source": [
    "## Receive image"
   ]
  },
  {
   "cell_type": "code",
   "execution_count": 10,
   "metadata": {},
   "outputs": [],
   "source": [
    "image = mpimg.imread('/home/nsslab/SDCND/Projet1/test_images/solidWhiteRight.jpg')"
   ]
  },
  {
   "cell_type": "markdown",
   "metadata": {},
   "source": [
    "## Define functions to complete total process "
   ]
  },
  {
   "cell_type": "code",
   "execution_count": 11,
   "metadata": {},
   "outputs": [],
   "source": [
    "def f_gay(image):\n",
    "    gray = cv2.cvtColor(image,cv2.COLOR_RGB2GRAY)\n",
    "    return gray\n",
    "\n",
    "def f_blurgray(gray,kernel_size):\n",
    "    blur_gray = cv2.GaussianBlur(gray,(kernel_size, kernel_size),0)\n",
    "    return blur_gray\n",
    "\n",
    "def f_canny(blur_gray, low_threshold, high_threshold):\n",
    "    edges = cv2.Canny(blur_gray, low_threshold, high_threshold)\n",
    "    return edges\n",
    "\n",
    "def f_fillpoly(mask, vertices, ignore_mask_color, edges):\n",
    "    cv2.fillPoly(mask, vertices, ignore_mask_color)\n",
    "    masked_edge = cv2.bitwise_and(edges, mask)\n",
    "    return masked_edge\n",
    "\n",
    "def f_hough(masked_edges, rho, theta, threshold, min_line_length, max_line_gap):\n",
    "    lines = cv2.HoughLinesP(masked_edges, rho, theta, threshold, np.array([]),\n",
    "                            min_line_length, max_line_gap)\n",
    "    return lines\n",
    "\n",
    "def f_drawline(blank_image,lines):\n",
    "    for line in lines:\n",
    "        for x1,y1,x2,y2 in line:\n",
    "            cv2.line(blank_image,(x1,y1),(x2,y2),(0,255,0),5)\n",
    "    return blank_image\n",
    "\n",
    "def f_addweight(image, line_image):\n",
    "    result = cv2.addWeighted(image, 1, line_image, 1, 0)\n",
    "    return result\n"
   ]
  },
  {
   "cell_type": "markdown",
   "metadata": {},
   "source": [
    "## Run to produce results"
   ]
  },
  {
   "cell_type": "code",
   "execution_count": 12,
   "metadata": {},
   "outputs": [],
   "source": [
    "def f_result(image):\n",
    "    \n",
    "    gray = f_gay(image)\n",
    "    \n",
    "    kernel_size = 5 # Must be an odd number (3, 5, 7...)\n",
    "    blur_gray = f_blurgray(gray,kernel_size)\n",
    "\n",
    "    low_threshold = 50\n",
    "    high_threshold = 150\n",
    "    edges = f_canny(blur_gray, low_threshold, high_threshold)\n",
    "\n",
    "    mask = np.zeros_like(edges)   \n",
    "    ignore_mask_color = 255 \n",
    "    \n",
    "    imshape = image.shape\n",
    "    vertices = np.array([[(0,imshape[0]),(450, 320), (530,320), (imshape[1],imshape[0])]], dtype=np.int32)\n",
    "\n",
    "    masked_edges = f_fillpoly(mask, vertices, ignore_mask_color, edges)\n",
    "    rho = 2 # distance resolution in pixels of the Hough grid\n",
    "    theta = np.pi/180 # angular resolution in radians of the Hough grid\n",
    "    threshold = 15    # minimum number of votes (intersections in Hough grid cell)\n",
    "    min_line_length = 120 #minimum number of pixels making up a line\n",
    "    max_line_gap = 80    # maximum gap in pixels between connectable line segments\n",
    "    blank_image = np.copy(image)*0 \n",
    "\n",
    "    lines = f_hough(masked_edges, rho, theta, threshold, min_line_length, max_line_gap)\n",
    "\n",
    "    line_image = f_drawline(blank_image, lines)    \n",
    "\n",
    "    result = f_addweight(image,line_image)\n",
    "    return result"
   ]
  },
  {
   "cell_type": "markdown",
   "metadata": {},
   "source": [
    "## Apply to video"
   ]
  },
  {
   "cell_type": "code",
   "execution_count": 16,
   "metadata": {},
   "outputs": [
    {
     "name": "stdout",
     "output_type": "stream",
     "text": [
      "[MoviePy] >>>> Building video solidWhiteRight100.mp4\n",
      "[MoviePy] Writing video solidWhiteRight100.mp4\n"
     ]
    },
    {
     "name": "stderr",
     "output_type": "stream",
     "text": [
      "100%|█████████▉| 221/222 [00:02<00:00, 84.20it/s]\n"
     ]
    },
    {
     "name": "stdout",
     "output_type": "stream",
     "text": [
      "[MoviePy] Done.\n",
      "[MoviePy] >>>> Video ready: solidWhiteRight100.mp4 \n",
      "\n",
      "CPU times: user 8.72 s, sys: 144 ms, total: 8.86 s\n",
      "Wall time: 2.9 s\n"
     ]
    },
    {
     "data": {
      "text/html": [
       "\n",
       "<video width=\"960\" height=\"540\" controls>\n",
       "  <source src=\"solidWhiteRight100.mp4\">\n",
       "</video>\n"
      ],
      "text/plain": [
       "<IPython.core.display.HTML object>"
      ]
     },
     "execution_count": 16,
     "metadata": {},
     "output_type": "execute_result"
    }
   ],
   "source": [
    "from moviepy.editor import VideoFileClip\n",
    "from IPython.display import HTML\n",
    "\n",
    "white_output = 'solidWhiteRight100.mp4'\n",
    "clip1 = VideoFileClip(\"/home/nsslab/SDCND/Projet1/test_videos/solidWhiteRight.mp4\")\n",
    "white_clip = clip1.fl_image(f_result) \n",
    "%time white_clip.write_videofile(white_output , audio=False)\n",
    "\n",
    "HTML(\"\"\"\n",
    "<video width=\"960\" height=\"540\" controls>\n",
    "  <source src=\"{0}\">\n",
    "</video>\n",
    "\"\"\".format(white_output))"
   ]
  },
  {
   "cell_type": "markdown",
   "metadata": {},
   "source": [
    "## Second , solidYellowLeft"
   ]
  },
  {
   "cell_type": "code",
   "execution_count": 17,
   "metadata": {},
   "outputs": [
    {
     "name": "stdout",
     "output_type": "stream",
     "text": [
      "[MoviePy] >>>> Building video solidYellowLeft100.mp4\n",
      "[MoviePy] Writing video solidYellowLeft100.mp4\n"
     ]
    },
    {
     "name": "stderr",
     "output_type": "stream",
     "text": [
      "100%|█████████▉| 681/682 [00:07<00:00, 86.12it/s]\n"
     ]
    },
    {
     "name": "stdout",
     "output_type": "stream",
     "text": [
      "[MoviePy] Done.\n",
      "[MoviePy] >>>> Video ready: solidYellowLeft100.mp4 \n",
      "\n",
      "CPU times: user 26 s, sys: 516 ms, total: 26.6 s\n",
      "Wall time: 8.18 s\n"
     ]
    },
    {
     "data": {
      "text/html": [
       "\n",
       "<video width=\"960\" height=\"540\" controls>\n",
       "  <source src=\"solidYellowLeft100.mp4\">\n",
       "</video>\n"
      ],
      "text/plain": [
       "<IPython.core.display.HTML object>"
      ]
     },
     "execution_count": 17,
     "metadata": {},
     "output_type": "execute_result"
    }
   ],
   "source": [
    "import matplotlib.pyplot as plt\n",
    "import matplotlib.image as mpimg\n",
    "import numpy as np\n",
    "import cv2\n",
    "import math\n",
    "import imageio\n",
    "imageio.plugins.ffmpeg.download()\n",
    "\n",
    "%matplotlib inline\n",
    "\n",
    "image = mpimg.imread('/home/nsslab/SDCND/Projet1/test_images/solidYellowLeft.jpg')\n",
    "\n",
    "def f_gay(image):\n",
    "    gray = cv2.cvtColor(image,cv2.COLOR_RGB2GRAY)\n",
    "    return gray\n",
    "\n",
    "def f_blurgray(gray,kernel_size):\n",
    "    blur_gray = cv2.GaussianBlur(gray,(kernel_size, kernel_size),0)\n",
    "    return blur_gray\n",
    "\n",
    "def f_canny(blur_gray, low_threshold, high_threshold):\n",
    "    edges = cv2.Canny(blur_gray, low_threshold, high_threshold)\n",
    "    return edges\n",
    "\n",
    "def f_fillpoly(mask, vertices, ignore_mask_color, edges):\n",
    "    cv2.fillPoly(mask, vertices, ignore_mask_color)\n",
    "    masked_edge = cv2.bitwise_and(edges, mask)\n",
    "    return masked_edge\n",
    "\n",
    "def f_hough(masked_edges, rho, theta, threshold, min_line_length, max_line_gap):\n",
    "    lines = cv2.HoughLinesP(masked_edges, rho, theta, threshold, np.array([]),\n",
    "                            min_line_length, max_line_gap)\n",
    "    return lines\n",
    "\n",
    "def f_drawline(blank_image,lines):\n",
    "    for line in lines:\n",
    "        for x1,y1,x2,y2 in line:\n",
    "            cv2.line(blank_image,(x1,y1),(x2,y2),(255,255,0),5)\n",
    "    return blank_image\n",
    "\n",
    "def f_addweight(image, line_image):\n",
    "    result = cv2.addWeighted(image, 1, line_image, 1, 0)\n",
    "    return result\n",
    "\n",
    "\n",
    "from moviepy.editor import VideoFileClip\n",
    "from IPython.display import HTML\n",
    "\n",
    "def f_result(image):\n",
    "    \n",
    "    gray = f_gay(image)\n",
    "    \n",
    "    kernel_size = 5 # Must be an odd number (3, 5, 7...)\n",
    "    blur_gray = f_blurgray(gray,kernel_size)\n",
    "\n",
    "    low_threshold = 50\n",
    "    high_threshold = 150\n",
    "    edges = f_canny(blur_gray, low_threshold, high_threshold)\n",
    "\n",
    "    mask = np.zeros_like(edges)   \n",
    "    ignore_mask_color = 255 \n",
    "    \n",
    "    imshape = image.shape\n",
    "    vertices = np.array([[(0,imshape[0]),(450, 330), (530,330), (imshape[1],imshape[0])]], dtype=np.int32)\n",
    "\n",
    "    masked_edges = f_fillpoly(mask, vertices, ignore_mask_color, edges)\n",
    "    rho = 2 # distance resolution in pixels of the Hough grid\n",
    "    theta = np.pi/180 # angular resolution in radians of the Hough grid\n",
    "    threshold = 15    # minimum number of votes (intersections in Hough grid cell)\n",
    "    min_line_length = 120 #minimum number of pixels making up a line\n",
    "    max_line_gap = 80    # maximum gap in pixels between connectable line segments\n",
    "    blank_image = np.copy(image)*0 \n",
    "\n",
    "    lines = f_hough(masked_edges, rho, theta, threshold, min_line_length, max_line_gap)\n",
    "\n",
    "    line_image = f_drawline(blank_image, lines)    \n",
    "\n",
    "    result = f_addweight(image,line_image)\n",
    "    return result\n",
    "\n",
    "white_output = 'solidYellowLeft100.mp4'\n",
    "clip1 = VideoFileClip(\"/home/nsslab/SDCND/Projet1/test_videos/solidYellowLeft.mp4\")\n",
    "white_clip = clip1.fl_image(f_result) \n",
    "%time white_clip.write_videofile(white_output , audio=False)\n",
    "\n",
    "HTML(\"\"\"\n",
    "<video width=\"960\" height=\"540\" controls>\n",
    "  <source src=\"{0}\">\n",
    "</video>\n",
    "\"\"\".format(white_output))\n",
    "\n",
    "\n"
   ]
  },
  {
   "cell_type": "code",
   "execution_count": null,
   "metadata": {},
   "outputs": [],
   "source": []
  }
 ],
 "metadata": {
  "kernelspec": {
   "display_name": "Python 3",
   "language": "python",
   "name": "python3"
  },
  "language_info": {
   "codemirror_mode": {
    "name": "ipython",
    "version": 3
   },
   "file_extension": ".py",
   "mimetype": "text/x-python",
   "name": "python",
   "nbconvert_exporter": "python",
   "pygments_lexer": "ipython3",
   "version": "3.5.2"
  }
 },
 "nbformat": 4,
 "nbformat_minor": 2
}
